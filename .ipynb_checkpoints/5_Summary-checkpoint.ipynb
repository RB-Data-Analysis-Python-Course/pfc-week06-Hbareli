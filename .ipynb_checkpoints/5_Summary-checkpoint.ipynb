{
 "cells": [
  {
   "cell_type": "markdown",
   "metadata": {},
   "source": [
    "# <span style=\"align: right; direction: rtl; float: right; clear: both;\">תרגילים</span>"
   ]
  },
  {
   "cell_type": "markdown",
   "metadata": {},
   "source": [
    "### <span style=\"text-align: right; direction: rtl; float: right; clear: both;\">group_by</span>"
   ]
  },
  {
   "cell_type": "code",
   "execution_count": 3,
   "metadata": {},
   "outputs": [],
   "source": [
    "# לא חובה"
   ]
  },
  {
   "cell_type": "markdown",
   "metadata": {},
   "source": [
    "<p style=\"text-align: right; direction: rtl; float: right; clear: both;\">\n",
    "    כתבו פונקציה בשם <var>group_by</var> שמקבלת פונקציה כפרמטר ראשון, ו־iterable כפרמטר שני.<br>\n",
    "    הפונקציה תחזיר מילון, שבו:\n",
    "</p>"
   ]
  },
  {
   "cell_type": "markdown",
   "metadata": {},
   "source": [
    "<ul style=\"text-align: right; direction: rtl; float: right; clear: both;\">\n",
    "    <li>המפתחות הם הערכים שחזרו מהפונקציה שהועברה כפרמטר הראשון.</li>\n",
    "    <li>הערך התואם למפתח מסוים הוא רשימה של כל האיברים שעבורם חזר הערך המופיע במפתח.</li>\n",
    "</ul>"
   ]
  },
  {
   "cell_type": "markdown",
   "metadata": {},
   "source": [
    "<p style=\"text-align: right; direction: rtl; float: right; clear: both;\">\n",
    "לדוגמה, עבור הקריאה <code dir=\"ltr\" style=\"direction: ltr; text-align: left;\">group_by(len, [\"hi\", \"bye\", \"yo\", \"try\"])</code> יוחזר הערך: <samp dir=\"ltr\" style=\"direction: ltr; text-align: left;\">{2: [\"hi\", \"yo\"], 3: [\"bye\", \"try\"]}</samp>.\n",
    "</p>"
   ]
  },
  {
   "cell_type": "markdown",
   "metadata": {},
   "source": [
    "### <span style=\"text-align: right; direction: rtl; float: right; clear: both;\">zipwith</span>"
   ]
  },
  {
   "cell_type": "markdown",
   "metadata": {},
   "source": [
    "<p style=\"text-align: right; direction: rtl; float: right; clear: both;\">\n",
    "    כתבו פונקציה בשם <var>zip_with</var> שמקבלת פונקציה כפרמטר ראשון, ושני iterable־ים או יותר בפרמטרים שאחריו.<br>\n",
    "    הפונקציה תחזיר רשימה, שבה האיבר במקום ה־N־י הוא הערך שחזר מהעברת כל הערכים במקום ה־N־י של כל ה־iterables לפונקציה.\n",
    "</p>"
   ]
  },
  {
   "cell_type": "markdown",
   "metadata": {},
   "source": [
    "<p style=\"text-align: right; direction: rtl; float: right; clear: both;\">\n",
    "לדוגמה:\n",
    "</p>"
   ]
  },
  {
   "cell_type": "markdown",
   "metadata": {},
   "source": [
    "<ul style=\"text-align: right; direction: rtl; float: right; clear: both;\">\n",
    "    <li>עבור הקריאה <code dir=\"ltr\" style=\"direction: ltr; text-align: left;\">zipwith(add, [1, 2, 3], [4, 5, 6])</code> יוחזר הערך: <samp dir=\"ltr\" style=\"direction: ltr; text-align: left;\">[5, 7, 9]</samp>.</li>\n",
    "    <li>עבור הקריאה <code dir=\"ltr\" style=\"direction: ltr; text-align: left;\">zipwith(max, (5, 4), (2, 5), (6, -6))</code> יוחזר הערך: <samp dir=\"ltr\" style=\"direction: ltr; text-align: left;\">[6, 5]</samp>.</li>\n",
    "</ul>"
   ]
  },
  {
   "cell_type": "markdown",
   "metadata": {},
   "source": [
    "<p style=\"text-align: right; direction: rtl; float: right; clear: both;\">\n",
    "    אפשר להניח שה־iterables המועברים לפונקציה זהים באורכם.\n",
    "</p>"
   ]
  },
  {
   "cell_type": "code",
   "execution_count": 10,
   "metadata": {},
   "outputs": [],
   "source": [
    "import operator\n",
    "\n",
    "def zip_with(function, *iterables):\n",
    "    res=[]\n",
    "    n=0\n",
    "    while n<len(iterables[0]):\n",
    "        new_iterable=[iterable[n] for iterable in iterables]\n",
    "        res.append(function(new_iterable))\n",
    "        new_iterable=[]\n",
    "        n+=1\n",
    "    return res"
   ]
  },
  {
   "cell_type": "code",
   "execution_count": 15,
   "metadata": {},
   "outputs": [
    {
     "data": {
      "text/plain": [
       "[1, 2, 3]"
      ]
     },
     "execution_count": 15,
     "metadata": {},
     "output_type": "execute_result"
    }
   ],
   "source": [
    "zip_with(min, [1, 2, 3], [4, 5, 6])"
   ]
  },
  {
   "cell_type": "markdown",
   "metadata": {},
   "source": [
    "### <span style=\"text-align: right; direction: rtl; float: right; clear: both;\">זכרתם?</span>\n"
   ]
  },
  {
   "cell_type": "code",
   "execution_count": 1,
   "metadata": {},
   "outputs": [],
   "source": [
    "# לא לעשות"
   ]
  },
  {
   "cell_type": "markdown",
   "metadata": {},
   "source": [
    "<p style=\"text-align: right; direction: rtl; float: right; clear: both;\">\n",
    "    כתבו פונקציה שמקבלת מסר להצפנה, ויוצרת ממנו תמונה מוצפנת.<br>\n",
    "    השתמשו בשיטת ההצפנה שהוצגה במחברת הקודמת. \n",
    "</p>"
   ]
  },
  {
   "cell_type": "markdown",
   "metadata": {},
   "source": [
    "### <span style=\"text-align: right; direction: rtl; float: right; clear: both;\">סט</span>"
   ]
  },
  {
   "cell_type": "markdown",
   "metadata": {},
   "source": [
    "<p style=\"text-align: right; direction: rtl; float: right; clear: both;\">\n",
    "    למדו את החוקים של המשחק סט, <a href=\"https://he.wikipedia.org/wiki/%D7%A1%D7%98_(%D7%9E%D7%A9%D7%97%D7%A7_%D7%A7%D7%9C%D7%A4%D7%99%D7%9D)\">מהערך בוויקיפדיה</a> או מ־<a href=\"https://www.youtube.com/watch?v=Kc4WrL7cxeg\">YouTube</a>.\n",
    "</p>"
   ]
  },
  {
   "cell_type": "markdown",
   "metadata": {},
   "source": [
    "<ol style=\"text-align: right; direction: rtl; float: right; clear: both;\">\n",
    "    <li>צרו חפיסת סט.</li>\n",
    "    <li>טרפו אותה היטב, ופתחו 12 קלפים על השולחן. הדפיסו את כל הסטים שמצאתם.</li>\n",
    "    <li>בדקו בכמה אחוזים מהפעמים שבהן פותחים 12 קלפים אקראיים מהחפיסה – אין אף סט על הלוח.</li>\n",
    "</ol>"
   ]
  },
  {
   "cell_type": "markdown",
   "metadata": {},
   "source": [
    "<p style=\"text-align: right; direction: rtl; float: right; clear: both;\">\n",
    "    כדי לחשב את סעיף 3, הריצו את הבדיקה על 10,000 מקרים שבהם פתחתם 12 קלפים מהחפיסה המעורבבת.\n",
    "</p>"
   ]
  },
  {
   "cell_type": "code",
   "execution_count": 237,
   "metadata": {
    "tags": []
   },
   "outputs": [],
   "source": [
    "import random\n",
    "import itertools\n",
    "\n",
    "def create_deck():\n",
    "    shape=['wave', 'diamond', 'round']\n",
    "    color=['purple', 'red', 'green']\n",
    "    fill=['full', 'stripes', 'empty']\n",
    "    amount=[1,2,3]     \n",
    "    deck = itertools.product(shape, color, fill, amount)\n",
    "    return list(deck)\n",
    "\n",
    "def random_cards(deck):\n",
    "    return random.sample(deck, k=12)\n",
    "\n",
    "    \n",
    "def is_set(card1, card2, card3):\n",
    "    i=0\n",
    "    for i in range(0,4):\n",
    "        if (card1[i]==card2[i] and card1[i]!=card3[i]) or (card1[i]!=card2[i] and (card1[i]==card3[i] or card2[i]==card3[i])):\n",
    "            return False\n",
    "    return True\n",
    "        \n",
    "def find_all_sets(cards):\n",
    "    combs = list(itertools.combinations(cards, 3))\n",
    "    for i in range(1,len(combs)):\n",
    "        if is_set(combs[i][0], combs[i][1], combs[i][2]):\n",
    "            print(combs[i][0], combs[i][1], combs[i][2],\"\\n\")\n",
    "    \n",
    "    \n",
    "def set_game():\n",
    "    deck = create_deck()\n",
    "    cards=random_cards(deck)\n",
    "    find_all_sets(cards)"
   ]
  },
  {
   "cell_type": "code",
   "execution_count": 238,
   "metadata": {},
   "outputs": [
    {
     "name": "stdout",
     "output_type": "stream",
     "text": [
      "('diamond', 'purple', 'stripes', 2) ('diamond', 'purple', 'full', 1) ('diamond', 'purple', 'empty', 3) \n",
      "\n",
      "('diamond', 'purple', 'stripes', 2) ('round', 'purple', 'stripes', 2) ('wave', 'purple', 'stripes', 2) \n",
      "\n",
      "('wave', 'purple', 'full', 1) ('diamond', 'purple', 'empty', 3) ('round', 'purple', 'stripes', 2) \n",
      "\n",
      "('diamond', 'purple', 'empty', 3) ('wave', 'purple', 'empty', 1) ('round', 'purple', 'empty', 2) \n",
      "\n"
     ]
    }
   ],
   "source": [
    "set_game()"
   ]
  },
  {
   "cell_type": "code",
   "execution_count": 239,
   "metadata": {
    "tags": []
   },
   "outputs": [],
   "source": [
    "def check_all_combs(cards):\n",
    "    combs = list(itertools.combinations(cards, 3))\n",
    "    for i in range(0,len(combs)):\n",
    "        if is_set(combs[i][0], combs[i][1], combs[i][2]):\n",
    "            return True\n",
    "    return False\n",
    "                    \n",
    "\n",
    "def check_prob(runs=10000):\n",
    "    counter=0\n",
    "    deck = create_deck()\n",
    "    for i in range(1,runs):\n",
    "        cards=random_cards(deck)\n",
    "        if check_all_combs(cards):\n",
    "            counter+=1\n",
    "    return counter/runs"
   ]
  },
  {
   "cell_type": "code",
   "execution_count": null,
   "metadata": {},
   "outputs": [
    {
     "data": {
      "text/plain": [
       "0.9999"
      ]
     },
     "execution_count": 210,
     "metadata": {},
     "output_type": "execute_result"
    }
   ],
   "source": [
    "check_prob()"
   ]
  },
  {
   "cell_type": "code",
   "execution_count": 241,
   "metadata": {},
   "outputs": [
    {
     "data": {
      "text/plain": [
       "0.9668"
      ]
     },
     "execution_count": 241,
     "metadata": {},
     "output_type": "execute_result"
    }
   ],
   "source": [
    "check_prob()"
   ]
  },
  {
   "cell_type": "code",
   "execution_count": null,
   "metadata": {},
   "outputs": [],
   "source": []
  },
  {
   "cell_type": "markdown",
   "metadata": {},
   "source": [
    "### <span style=\"text-align: right; direction: rtl; float: right; clear: both;\">100 מעלות</span>"
   ]
  },
  {
   "cell_type": "code",
   "execution_count": 2,
   "metadata": {},
   "outputs": [],
   "source": [
    "# לא לעשות"
   ]
  },
  {
   "cell_type": "markdown",
   "metadata": {},
   "source": [
    "<p style=\"text-align: right; direction: rtl; float: right; clear: both;\">\n",
    "    כתבו קוד שמוצא את 100 השירים הפופולריים ביותר לפי מדד <a href=\"https://www.billboard.com/charts/hot-100\">Hot 100</a> של Billboard.<br>\n",
    "    השיגו את המילים של השירים שמצאתם, ושרטטו גרף שמראה כמה פעמים מופיעה כל מילה מ־100 המילים הנפוצות ביותר בכל השירים.\n",
    "</p>"
   ]
  },
  {
   "cell_type": "markdown",
   "metadata": {},
   "source": [
    "<p style=\"text-align: right; direction: rtl; float: right; clear: both;\">\n",
    "    בונוס: בצעו ניתוח מעניין אחר, כמו מיהם האומנים שמשתמשים בהכי הרבה מילים בשירים שלהם!\n",
    "</p>"
   ]
  },
  {
   "cell_type": "code",
   "execution_count": null,
   "metadata": {},
   "outputs": [],
   "source": []
  }
 ],
 "metadata": {
  "kernelspec": {
   "display_name": "Python 3 (ipykernel)",
   "language": "python",
   "name": "python3"
  },
  "language_info": {
   "codemirror_mode": {
    "name": "ipython",
    "version": 3
   },
   "file_extension": ".py",
   "mimetype": "text/x-python",
   "name": "python",
   "nbconvert_exporter": "python",
   "pygments_lexer": "ipython3",
   "version": "3.9.7"
  }
 },
 "nbformat": 4,
 "nbformat_minor": 4
}
